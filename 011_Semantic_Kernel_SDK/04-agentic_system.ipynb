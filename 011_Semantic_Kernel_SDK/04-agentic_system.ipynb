{
 "cells": [
  {
   "cell_type": "markdown",
   "metadata": {},
   "source": [
    "## Sistema Agente de Reportero de Noticias Usando el SDK de Semantic Kernel y el Servicio de Agentes de Azure AI"
   ]
  },
  {
   "cell_type": "code",
   "execution_count": null,
   "metadata": {},
   "outputs": [],
   "source": [
    "# Instalando la versión específica de la biblioteca de Semantic Kernel.\n",
    "%pip install semantic-kernel==1.28.1"
   ]
  },
  {
   "cell_type": "code",
   "execution_count": null,
   "metadata": {},
   "outputs": [],
   "source": [
    "# Instalando la versión específica de la biblioteca para el servicio de Agentes de Azure AI.\n",
    "%pip install azure-ai-projects==1.0.0b7"
   ]
  },
  {
   "cell_type": "markdown",
   "metadata": {},
   "source": [
    "#### Importando bibliotecas y utilidades importantes"
   ]
  },
  {
   "cell_type": "code",
   "execution_count": 1,
   "metadata": {},
   "outputs": [],
   "source": [
    "from typing import Annotated\n",
    "from semantic_kernel import Kernel # El orquestador principal de Semantic Kernel.\n",
    "import os # Para interactuar con el sistema operativo (leer variables de entorno).\n",
    "import asyncio # Para ejecutar operaciones de forma asíncrona.\n",
    "from semantic_kernel.connectors.ai.open_ai import AzureChatCompletion # El conector para los modelos de chat de Azure OpenAI.\n",
    "from dotenv import load_dotenv # Para cargar variables desde un archivo .env.\n",
    "from semantic_kernel.planners import SequentialPlanner # El planificador que creará el plan de acción.\n",
    "from typing import Annotated # Para añadir descripciones a los parámetros de las funciones.\n",
    "from semantic_kernel.functions.kernel_function_decorator import kernel_function # El decorador para convertir funciones de Python en herramientas para la IA.\n",
    "from azure.ai.projects import AIProjectClient # El cliente para el servicio de Agentes de Azure AI.\n",
    "from azure.identity import DefaultAzureCredential # Para la autenticación con Azure.\n",
    "from azure.ai.projects.models import BingGroundingTool # La herramienta específica para la búsqueda con Bing."
   ]
  },
  {
   "cell_type": "markdown",
   "metadata": {},
   "source": [
    "#### Cargando las variables de entorno"
   ]
  },
  {
   "cell_type": "code",
   "execution_count": 2,
   "metadata": {},
   "outputs": [],
   "source": [
    "# Carga las configuraciones desde el archivo .env para mantener las claves seguras.\n",
    "load_dotenv()\n",
    "# Lee cada una de las variables necesarias del entorno.\n",
    "azure_openai_key = os.getenv(\"AZURE_OPENAI_API_KEY\")\n",
    "azure_openai_endpoint = os.getenv(\"AZURE_OPENAI_ENDPOINT\")\n",
    "azure_openai_deployment_name = os.getenv(\"AZURE_OPENAI_CHAT_COMPLETION_MODEL\")\n",
    "ai_project_connection_string = os.getenv(\"AI_PROJECT_CONNECTION_STRING\")\n",
    "bing_connection_name = os.getenv(\"BING_CONNECTION_NAME\")"
   ]
  },
  {
   "cell_type": "markdown",
   "metadata": {},
   "source": [
    "#### Creando un cliente de Azure AI Project para conectar con el Servicio de Agentes de Azure AI"
   ]
  },
  {
   "cell_type": "code",
   "execution_count": 3,
   "metadata": {},
   "outputs": [],
   "source": [
    "# Este objeto se usará para crear los agentes \"trabajadores\" o \"especialistas\".\n",
    "project_client = AIProjectClient.from_connection_string(\n",
    "        credential=DefaultAzureCredential(), # Usa las credenciales de Azure para autenticarse.\n",
    "        conn_str=ai_project_connection_string # Apunta al servicio de Agentes correcto usando la cadena de conexión.\n",
    "        )"
   ]
  },
  {
   "cell_type": "markdown",
   "metadata": {},
   "source": [
    "#### Creando una clase de Plugin \"Agents\" que incluirá los plugins nativos para el Kernel"
   ]
  },
  {
   "cell_type": "code",
   "execution_count": 4,
   "metadata": {},
   "outputs": [],
   "source": [
    "# Esta clase agrupa todas las funciones que actuarán como agentes especialistas.\n",
    "class Agents:\n",
    "    # --- Agente Especialista 1: El Investigador Web ---\n",
    "    @kernel_function(\n",
    "        # La descripción es VITAL. El Planificador la lee para entender qué hace esta herramienta.\n",
    "        description=\"Esta función se usará para utilizar un agente de IA de Azure con capacidad de búsqueda web usando la API de Búsqueda de Bing\",\n",
    "        # El nombre es cómo el Planificador se referirá a esta herramienta en el plan.\n",
    "        name=\"WebSearchAgent\"\n",
    "    )\n",
    "    def web_search_agent(\n",
    "        self, # Parámetro estándar en los métodos de una clase.\n",
    "        # 'Annotated' permite describir cada parámetro. Esto también ayuda al Planificador a saber qué información pasarle.\n",
    "        query: Annotated[str, \"La consulta del usuario para la cual se necesita obtener información contextual de la web\"]\n",
    "    ) -> Annotated[str, \"La respuesta del agente de búsqueda web\"]:\n",
    "        # Obtiene los detalles de la conexión de Bing preconfigurada en Azure.\n",
    "        bing_connection = project_client.connections.get(connection_name=bing_connection_name)\n",
    "        conn_id = bing_connection.id\n",
    "        # Prepara la herramienta de Bing para dársela al agente.\n",
    "        bing = BingGroundingTool(connection_id=conn_id)\n",
    "        \n",
    "        # Crea un agente de Azure AI temporal y especializado. Su única misión es buscar en la web.\n",
    "        agent = project_client.agents.create_agent(\n",
    "            model=azure_openai_deployment_name,\n",
    "            name=\"bing-assistant\",\n",
    "            instructions=\"Eres un asistente útil\",\n",
    "            tools=bing.definitions, # Se le asigna la herramienta de búsqueda.\n",
    "            headers={\"x-ms-enable-preview\": \"true\"},\n",
    "        )\n",
    "        \n",
    "        # Se crea un hilo de conversación para el agente.\n",
    "        thread = project_client.agents.create_thread()\n",
    "        \n",
    "        # Se añade la consulta de búsqueda como el primer mensaje en la conversación.\n",
    "        message = project_client.agents.create_message(\n",
    "                thread_id=thread.id,\n",
    "                role=\"user\",\n",
    "                content=query,\n",
    "            )\n",
    "        \n",
    "        # Se le ordena al agente que procese la conversación y genere una respuesta.\n",
    "        run = project_client.agents.create_and_process_run(thread_id=thread.id, assistant_id=agent.id)\n",
    "        \n",
    "        # Se recupera la lista de mensajes, donde la respuesta del agente será la más reciente.\n",
    "        messages = project_client.agents.list_messages(thread_id=thread.id)\n",
    "        \n",
    "        # Se imprime la respuesta para poder ver el progreso en la consola.\n",
    "        print(\"Respuesta del agente de búsqueda web:\")\n",
    "        print(\"\\n\")\n",
    "        print(messages.data[0].content[0].text.value)\n",
    "        \n",
    "        # Se devuelve únicamente el texto de la respuesta, que será la entrada para el siguiente paso del plan.\n",
    "        return messages.data[0].content[0].text.value\n",
    "    \n",
    "    # --- Agente Especialista 2: El Guionista de Noticias ---\n",
    "    @kernel_function(\n",
    "       description=\"Esta función usará un agente de IA de Azure para preparar un guion para un reportero de noticias basado en información reciente para un tema específico\",\n",
    "       name=\"NewsReporterAgent\"\n",
    "   )\n",
    "    def news_reporter_agent(\n",
    "        self,\n",
    "        topic: Annotated[str, \"El tema para el cual se ha obtenido la información/noticia más reciente\"],\n",
    "        latest_news: Annotated[str,\"La información más reciente para un tema específico\"]\n",
    "    ) -> Annotated[str, \"La respuesta del NewsReporterAgent, que es el guion para el reportero\"]:\n",
    "\n",
    "        # Crea un segundo agente de Azure AI, también temporal y especializado. Su única misión es escribir.\n",
    "        agent = project_client.agents.create_agent(\n",
    "            model=azure_openai_deployment_name,\n",
    "            name=\"news-reporter\",\n",
    "            # Las instrucciones son muy detalladas para asegurar que el resultado sea de alta calidad.\n",
    "            instructions=\"\"\"Eres un asistente útil destinado a preparar un guion para un reportero de noticias basado en la información más reciente sobre un tema específico, los cuales se te proporcionarán.\n",
    "                El canal de noticias se llama MSinghTV y el reportero se llama John. Se te dará el tema y la información más reciente para ese tema. Prepara un guion para el reportero John basado en esta información.\"\"\",\n",
    "            headers={\"x-ms-enable-preview\": \"true\"}, # No tiene herramientas, solo instrucciones.\n",
    "        )\n",
    "        \n",
    "        # Al igual que el otro agente, necesita su propio hilo de conversación.\n",
    "        thread = project_client.agents.create_thread()\n",
    "        \n",
    "        # Se le entrega la información (el tema y las noticias) en forma de un mensaje.\n",
    "        message = project_client.agents.create_message(\n",
    "                thread_id=thread.id,\n",
    "                role=\"user\",\n",
    "                content=f\"\"\"El tema es {topic} y la información más reciente es {latest_news}\"\"\",\n",
    "            )\n",
    "        \n",
    "        # Se le ordena al agente que escriba el guion.\n",
    "        run = project_client.agents.create_and_process_run(thread_id=thread.id, assistant_id=agent.id)\n",
    "        \n",
    "        # Se recupera el guion final de la conversación.\n",
    "        messages = project_client.agents.list_messages(thread_id=thread.id)\n",
    "        \n",
    "        # Se imprime el guion final.\n",
    "        print(\"Guion para el reportero de noticias:\")\n",
    "        print(\"\\n\")\n",
    "        print(messages.data[0].content[0].text.value)\n",
    "        \n",
    "        # Se devuelve el guion como el resultado final de esta función.\n",
    "        return messages.data[0].content[0].text.value"
   ]
  },
  {
   "cell_type": "markdown",
   "metadata": {},
   "source": [
    "#### Creando el Kernel del SDK de Semantic Kernel (El \"Cerebro\")"
   ]
  },
  {
   "cell_type": "code",
   "execution_count": 5,
   "metadata": {},
   "outputs": [],
   "source": [
    "# Se crea la instancia principal del Kernel, el orquestador.\n",
    "kernel = Kernel()\n",
    "\n",
    "# Se define un alias para nuestro servicio de IA.\n",
    "service_id = \"default\"\n",
    "\n",
    "# Se conecta el Kernel al modelo de lenguaje de Azure OpenAI. Ahora el Kernel tiene \"poder de cómputo\".\n",
    "kernel.add_service(\n",
    "    AzureChatCompletion(service_id=service_id,\n",
    "                        api_key=azure_openai_key,\n",
    "                        deployment_name=azure_openai_deployment_name,\n",
    "                        endpoint = azure_openai_endpoint\n",
    "    )\n",
    ")"
   ]
  },
  {
   "cell_type": "markdown",
   "metadata": {},
   "source": [
    "#### Creando Nuestro Planificador (El \"Director\")"
   ]
  },
  {
   "cell_type": "code",
   "execution_count": 6,
   "metadata": {},
   "outputs": [],
   "source": [
    "# Se crea la instancia del Planificador. Este será nuestro 'Mánager de Proyectos'.\n",
    "planner = SequentialPlanner(\n",
    "    kernel, # Se le da acceso al Kernel para que pueda usar sus funciones y su IA.\n",
    "    service_id # Se le indica qué servicio de IA debe usar para 'pensar' y crear el plan.\n",
    ")"
   ]
  },
  {
   "cell_type": "markdown",
   "metadata": {},
   "source": [
    "#### Añadiendo los Plugins de Agentes como plugins nativos a nuestro Kernel"
   ]
  },
  {
   "cell_type": "code",
   "execution_count": 7,
   "metadata": {},
   "outputs": [],
   "source": [
    "# Se añade la clase 'Agents' como un plugin. Este es el paso donde el 'Director' conoce a su 'equipo de especialistas'.\n",
    "agents_plugin = kernel.add_plugin(Agents(), \"Agents\")"
   ]
  },
  {
   "cell_type": "markdown",
   "metadata": {},
   "source": [
    "#### Estableciendo la consulta del usuario (El Objetivo del CEO)"
   ]
  },
  {
   "cell_type": "code",
   "execution_count": 8,
   "metadata": {},
   "outputs": [],
   "source": [
    "# Esta es la instrucción de alto nivel que le damos al sistema.\n",
    "objetivo = f\"preparar un guion de noticias para John sobre las últimas noticias del mundo?\""
   ]
  },
  {
   "cell_type": "markdown",
   "metadata": {},
   "source": [
    "#### Invocando al Planificador e imprimiendo sus pasos/pensamientos"
   ]
  },
  {
   "cell_type": "code",
   "execution_count": 9,
   "metadata": {},
   "outputs": [
    {
     "name": "stdout",
     "output_type": "stream",
     "text": [
      "Los pasos del plan son:\n",
      "- Esta función se usará para utilizar un agente de IA de Azure con capacidad de búsqueda web usando la API de Búsqueda de Bing usando Agents-WebSearchAgent con parámetros: {'query': 'últimas noticias del mundo'}\n",
      "- Esta función usará un agente de IA de Azure para preparar un guion para un reportero de noticias basado en información reciente para un tema específico usando Agents-NewsReporterAgent con parámetros: {'topic': 'mundo', 'latest_news': '$LATEST_WORLD_NEWS'}\n"
     ]
    }
   ],
   "source": [
    "# Se define una función asíncrona para la fase de planificación.\n",
    "async def call_planner():\n",
    "    # Aquí es donde el planificador 'piensa' y crea el plan.\n",
    "    return await planner.create_plan(objetivo)\n",
    "\n",
    "# Se ejecuta la planificación. 'await' se usa aquí porque un notebook ya tiene un bucle de eventos asíncronos activo.\n",
    "sequential_plan = await call_planner()\n",
    "\n",
    "# Se imprime el plan resultante para ver qué ha decidido hacer la IA.\n",
    "print(\"Los pasos del plan son:\")\n",
    "for step in sequential_plan._steps:\n",
    "    print(\n",
    "        f\"- {step.description.replace('.', '') if step.description else 'No description'} usando {step.metadata.fully_qualified_name} con parámetros: {step.parameters}\"\n",
    "    )"
   ]
  },
  {
   "cell_type": "markdown",
   "metadata": {},
   "source": [
    "#### Ejecutando el \"Plan\" generado por el Planificador"
   ]
  },
  {
   "cell_type": "code",
   "execution_count": 10,
   "metadata": {},
   "outputs": [
    {
     "name": "stdout",
     "output_type": "stream",
     "text": [
      "Respuesta del agente de búsqueda web:\n",
      "\n",
      "\n",
      "Lo siento, no pude obtener las últimas noticias del mundo debido a un problema técnico con el acceso a la información en línea. Te recomendaría que revises fuentes de noticias confiables como BBC, CNN, El País o Reuters para obtener la información más reciente.\n",
      "Guion para el reportero de noticias:\n",
      "\n",
      "\n",
      "**Guion para el Reportero John en MSinghTV**\n",
      "\n",
      "---\n",
      "\n",
      "**[Intro Música de Noticiero]**\n",
      "\n",
      "**John:** \n",
      "\n",
      "\"¡Buenas tardes! Les damos la bienvenida a una nueva edición de MSinghTV. Soy John, y hoy les traemos un resumen de las noticias más recientes alrededor del mundo. Lamentablemente, debido a algunos problemas técnicos, no hemos podido acceder a las últimas noticias en línea, pero no se preocupen, ya estamos trabajando para resolverlo.\"\n",
      "\n",
      "**[Pausa breve y cambio de cámara]**\n",
      "\n",
      "**John:** \n",
      "\n",
      "\"Por esa razón, queremos recordarle a nuestra audiencia algunas de las fuentes más confiables donde pueden mantenerse informados. Recomendamos consultar medios como BBC, CNN, El País o Reuters, que siempre ofrecen una cobertura exhaustiva y detallada de los acontecimientos mundiales.\"\n",
      "\n",
      "**[Corte a imágenes de noticias mundiales genéricas]**\n",
      "\n",
      "**John (Voz en off):**\n",
      "\n",
      "\"Sabemos que el mundo está en constante cambio y es crucial estar bien informado sobre los eventos globales que nos afectan a todos. Desde conflictos internacionales, cambios climáticos, hasta innovaciones tecnológicas y descubrimientos de salud, las noticias impactan nuestras vidas día a día.\"\n",
      "\n",
      "**[Regreso a John en el estudio]**\n",
      "\n",
      "**John:**\n",
      "\n",
      "\"Continuaremos actualizando nuestro sistema y esperamos poder traerles pronto las noticias más recientes con profundidad y análisis. Mientras tanto, los invitamos a seguir informándose y compartirnos sus comentarios a través de nuestras plataformas en redes sociales.\"\n",
      "\n",
      "**[Pausa y cierre]**\n",
      "\n",
      "**John:**\n",
      "\n",
      "\"Les agradecemos su comprensión y compañía en esta edición. Manténganse seguros y nos vemos en la próxima emisión de MSinghTV. Buenas tardes.\"\n",
      "\n",
      "**[Cierre Música de Noticiero]**\n",
      "\n",
      "---\n",
      "\n",
      "Este guion ofrece una transición informativa a pesar de los desafíos técnicos, al tiempo que guía a la audiencia sobre cómo mantenerse informada correctamente.\n",
      "**Guion para el Reportero John en MSinghTV**\n",
      "\n",
      "---\n",
      "\n",
      "**[Intro Música de Noticiero]**\n",
      "\n",
      "**John:** \n",
      "\n",
      "\"¡Buenas tardes! Les damos la bienvenida a una nueva edición de MSinghTV. Soy John, y hoy les traemos un resumen de las noticias más recientes alrededor del mundo. Lamentablemente, debido a algunos problemas técnicos, no hemos podido acceder a las últimas noticias en línea, pero no se preocupen, ya estamos trabajando para resolverlo.\"\n",
      "\n",
      "**[Pausa breve y cambio de cámara]**\n",
      "\n",
      "**John:** \n",
      "\n",
      "\"Por esa razón, queremos recordarle a nuestra audiencia algunas de las fuentes más confiables donde pueden mantenerse informados. Recomendamos consultar medios como BBC, CNN, El País o Reuters, que siempre ofrecen una cobertura exhaustiva y detallada de los acontecimientos mundiales.\"\n",
      "\n",
      "**[Corte a imágenes de noticias mundiales genéricas]**\n",
      "\n",
      "**John (Voz en off):**\n",
      "\n",
      "\"Sabemos que el mundo está en constante cambio y es crucial estar bien informado sobre los eventos globales que nos afectan a todos. Desde conflictos internacionales, cambios climáticos, hasta innovaciones tecnológicas y descubrimientos de salud, las noticias impactan nuestras vidas día a día.\"\n",
      "\n",
      "**[Regreso a John en el estudio]**\n",
      "\n",
      "**John:**\n",
      "\n",
      "\"Continuaremos actualizando nuestro sistema y esperamos poder traerles pronto las noticias más recientes con profundidad y análisis. Mientras tanto, los invitamos a seguir informándose y compartirnos sus comentarios a través de nuestras plataformas en redes sociales.\"\n",
      "\n",
      "**[Pausa y cierre]**\n",
      "\n",
      "**John:**\n",
      "\n",
      "\"Les agradecemos su comprensión y compañía en esta edición. Manténganse seguros y nos vemos en la próxima emisión de MSinghTV. Buenas tardes.\"\n",
      "\n",
      "**[Cierre Música de Noticiero]**\n",
      "\n",
      "---\n",
      "\n",
      "Este guion ofrece una transición informativa a pesar de los desafíos técnicos, al tiempo que guía a la audiencia sobre cómo mantenerse informada correctamente.\n"
     ]
    }
   ],
   "source": [
    "# Se define una función asíncrona para la fase de ejecución.\n",
    "async def generate_answer():\n",
    "    # Aquí se le ordena al Kernel que ejecute cada paso del plan en secuencia.\n",
    "    return await sequential_plan.invoke(kernel)\n",
    "\n",
    "# Se ejecuta el plan completo.\n",
    "result = await generate_answer()\n",
    "\n",
    "# Se imprime el resultado final del último paso del plan.\n",
    "print(result)\n"
   ]
  }
 ],
 "metadata": {
  "kernelspec": {
   "display_name": ".venv",
   "language": "python",
   "name": "python3"
  },
  "language_info": {
   "codemirror_mode": {
    "name": "ipython",
    "version": 3
   },
   "file_extension": ".py",
   "mimetype": "text/x-python",
   "name": "python",
   "nbconvert_exporter": "python",
   "pygments_lexer": "ipython3",
   "version": "3.12.11"
  }
 },
 "nbformat": 4,
 "nbformat_minor": 2
}
