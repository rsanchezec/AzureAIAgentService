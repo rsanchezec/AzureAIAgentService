{
 "cells": [
  {
   "cell_type": "markdown",
   "id": "bd12c54a",
   "metadata": {},
   "source": [
    "## Construyendo un Agente de Azure AI con Plugins"
   ]
  },
  {
   "cell_type": "markdown",
   "id": "c02bc2f9",
   "metadata": {},
   "source": [
    "![Flujo de Trabajo del Agente](https://github.com/kuljotSB/semantic-kernel/blob/main/Assets/AzureAIAgent_With_Plugins.jpg?raw=true)\n"
   ]
  },
  {
   "cell_type": "markdown",
   "id": "c4b5db91",
   "metadata": {},
   "source": [
    "#### Instalando dependencias y bibliotecas"
   ]
  },
  {
   "cell_type": "code",
   "execution_count": null,
   "id": "7a1a27b4",
   "metadata": {},
   "outputs": [],
   "source": [
    "%pip install semantic-kernel==1.28.1, azure-identity, python-dotenv, azure-ai-projects==1.0.0b7"
   ]
  },
  {
   "cell_type": "markdown",
   "id": "9c137726",
   "metadata": {},
   "source": [
    "#### Cargando nuestras herramientas: OpenAPI y Code Interpreter"
   ]
  },
  {
   "cell_type": "code",
   "execution_count": null,
   "id": "11167cd1",
   "metadata": {},
   "outputs": [],
   "source": [
    "# --- Importaciones Necesarias ---\n",
    "from azure.identity import DefaultAzureCredential\n",
    "from semantic_kernel.agents import AzureAIAgent, AzureAIAgentSettings\n",
    "import os\n",
    "from azure.ai.projects import AIProjectClient\n",
    "from azure.ai.projects.models import MessageTextContent\n",
    "from dotenv import load_dotenv\n",
    "# Importaciones para la herramienta de API externa (OpenAPI).\n",
    "from azure.ai.projects.models import OpenApiTool, OpenApiAnonymousAuthDetails\n",
    "import asyncio\n",
    "from typing import Any, Callable, Set, Dict, List, Optional\n",
    "import jsonref\n",
    "from azure.ai.projects.models import FunctionTool, ToolSet\n",
    "import json\n",
    "# Importaciones para la herramienta de Intérprete de Código.\n",
    "from azure.ai.projects.models import CodeInterpreterTool, MessageAttachment\n",
    "\n",
    "# Se carga el archivo .env.\n",
    "load_dotenv()\n",
    "\n",
    "# Se obtiene el nombre del modelo a utilizar.\n",
    "model = os.getenv(\"AZURE_OPENAI_CHAT_COMPLETION_MODEL\")\n",
    "\n",
    "# Se crea el cliente para conectar con el Servicio de Agentes de Azure AI.\n",
    "project_client = AzureAIAgent.create_client(credential=DefaultAzureCredential(),\n",
    "                                          conn_str=os.getenv(\"PROJECT_CONNECTION_STRING\")\n",
    ")\n",
    "\n",
    "# --- Herramienta 1: OpenAPI para el Clima ---\n",
    "# Se lee la especificación OpenAPI desde un archivo local.\n",
    "with open(\"./weather_openapi.json\", \"r\") as f:\n",
    "    openapi_spec = jsonref.loads(f.read())\n",
    "\n",
    "# Se crea un objeto de autenticación (anónima en este caso).\n",
    "auth = OpenApiAnonymousAuthDetails()\n",
    "\n",
    "# Se inicializa la herramienta OpenAPI, dándole un nombre, la especificación y la autenticación.\n",
    "openapi = OpenApiTool(\n",
    "    name=\"get_weather\", spec=openapi_spec, description=\"Recupera información del clima para una ubicación\", auth=auth\n",
    ")\n",
    "\n",
    "# --- Herramienta 2: Intérprete de Código ---\n",
    "# Se inicializa la herramienta de Intérprete de Código. Es así de simple.\n",
    "code_interpreter = CodeInterpreterTool()"
   ]
  },
  {
   "cell_type": "markdown",
   "id": "ad7d5622",
   "metadata": {},
   "source": [
    "#### Encapsulando ambas Herramientas en un `ToolSet`"
   ]
  },
  {
   "cell_type": "code",
   "execution_count": null,
   "id": "52c52451",
   "metadata": {},
   "outputs": [],
   "source": [
    "# Un 'ToolSet' es un contenedor para agrupar múltiples herramientas.\n",
    "toolset = ToolSet()\n",
    "# Se añade la herramienta de OpenAPI al conjunto.\n",
    "toolset.add(openapi)\n",
    "# Se añade la herramienta de Intérprete de Código al mismo conjunto.\n",
    "toolset.add(code_interpreter)"
   ]
  },
  {
   "cell_type": "markdown",
   "id": "c56a1f00",
   "metadata": {},
   "source": [
    "#### Creando el Agente de Azure AI (en la Nube)"
   ]
  },
  {
   "cell_type": "code",
   "execution_count": null,
   "id": "3e62ddd6",
   "metadata": {},
   "outputs": [],
   "source": [
    "# Esta llamada a la API crea y registra un nuevo agente en el servicio de Azure AI.\n",
    "# Es crucial que le pasemos el 'toolset' para que el agente \"nazca\" sabiendo usar estas herramientas.\n",
    "agent = await project_client.agents.create_agent(\n",
    "        model=model,\n",
    "        name=\"multiple-tools-assistant\",\n",
    "        instructions=\"Eres un asistente muy útil\",\n",
    "        toolset=toolset, # Aquí se le equipa con el conjunto de herramientas.\n",
    "    )\n",
    "\n",
    "print(f\"Agente creado en la nube, ID: {agent.id}\")\n",
    "# Se guarda el ID del agente para usarlo más adelante.\n",
    "agent_id = agent.id\n",
    "\n",
    "# Se crea un hilo de conversación en el servicio de Azure para este agente.\n",
    "thread = await project_client.agents.create_thread()\n",
    "print(f\"Hilo creado en la nube, ID del hilo: {thread.id}\")\n",
    "# Se guarda el ID del hilo.\n",
    "thread_id = thread.id"
   ]
  },
  {
   "cell_type": "markdown",
   "id": "ca270e3e",
   "metadata": {},
   "source": [
    "#### Creando el Agente de Azure AI (en Semantic Kernel ~ Localmente)"
   ]
  },
  {
   "cell_type": "code",
   "execution_count": null,
   "id": "d00ddd0a",
   "metadata": {},
   "outputs": [],
   "source": [
    "# Se obtiene la definición completa del agente que acabamos de crear en la nube.\n",
    "agent_definition = await project_client.agents.get_agent(agent_id=agent_id)\n",
    "# Se crea el objeto 'AzureAIAgent' en nuestro código local. Este actuará como un \"control remoto\"\n",
    "# para el agente que vive en Azure.\n",
    "agent = AzureAIAgent(client=project_client, definition=agent_definition)"
   ]
  },
  {
   "cell_type": "markdown",
   "id": "283a3b0c",
   "metadata": {},
   "source": [
    "#### Invocando al Agente con un Hilo de Conversación"
   ]
  },
  {
   "cell_type": "code",
   "execution_count": null,
   "id": "627db472",
   "metadata": {},
   "outputs": [],
   "source": [
    "# Se importa la clase para manejar hilos de conversación de este tipo de agente.\n",
    "from semantic_kernel.agents import AzureAIAgentThread\n",
    "\n",
    "# Se crea el objeto 'thread' local, vinculándolo al hilo que ya existe en la nube usando su ID.\n",
    "thread: AzureAIAgentThread = AzureAIAgentThread(client=project_client, thread_id=thread_id)\n",
    "print(f\"Trabajando con el hilo, ID: {thread.id}\")\n",
    "\n",
    "# Se define una pregunta compleja que requiere ambas herramientas.\n",
    "user_input = \"¿Cuál es el clima en París y genera un gráfico para el mismo?\"\n",
    "\n",
    "# Se define la función asíncrona para llamar al agente.\n",
    "async def get_response_from_agent():\n",
    "    # Al llamar a 'get_response', el agente en Azure recibirá la pregunta.\n",
    "    # Razonará que primero debe usar la herramienta de clima y luego la de intérprete de código.\n",
    "    response =  await agent.get_response(\n",
    "        messages = user_input,\n",
    "        thread=thread, # Se pasa el hilo para mantener el historial de la conversación.\n",
    "    )\n",
    "    \n",
    "    return response\n",
    "\n",
    "# Se ejecuta la llamada y se imprime la respuesta de texto del agente.\n",
    "response = await get_response_from_agent()\n",
    "print(response)"
   ]
  },
  {
   "cell_type": "markdown",
   "id": "88479b42",
   "metadata": {},
   "source": [
    "#### Recuperando el archivo PNG del Gráfico"
   ]
  },
  {
   "cell_type": "code",
   "execution_count": null,
   "id": "d1271015",
   "metadata": {},
   "outputs": [],
   "source": [
    "# Importaciones adicionales para manejar archivos y roles de mensajes.\n",
    "from azure.ai.projects.models import CodeInterpreterTool, MessageAttachment\n",
    "from azure.ai.projects.models import FilePurpose, MessageRole\n",
    "from pathlib import Path\n",
    "\n",
    "# Se recupera el historial completo de mensajes del hilo desde el servicio de Azure.\n",
    "messages = await project_client.agents.list_messages(thread_id=thread_id)\n",
    "print(f\"Mensajes recuperados: {messages}\")\n",
    "\n",
    "# Se obtiene el último mensaje de texto del agente (si lo hay).\n",
    "last_msg = messages.get_last_text_message_by_role(MessageRole.AGENT)\n",
    "if last_msg:\n",
    "        print(f\"Último Mensaje de texto: {last_msg.text.value}\")\n",
    "\n",
    "# Se itera sobre cualquier contenido de imagen que haya en los mensajes.\n",
    "# Esto encontrará el gráfico generado por el Intérprete de Código.\n",
    "for image_content in messages.image_contents:\n",
    "        print(f\"ID del archivo de imagen encontrado: {image_content.image_file.file_id}\")\n",
    "        # Se crea un nombre de archivo local único.\n",
    "        file_name = f\"{image_content.image_file.file_id}_image_file.png\"\n",
    "        # Se descarga y guarda el archivo de imagen en el disco local.\n",
    "        await project_client.agents.save_file(file_id=image_content.image_file.file_id, file_name=file_name)\n",
    "        print(f\"Archivo de imagen guardado en: {Path.cwd() / file_name}\")"
   ]
  }
 ],
 "metadata": {
  "kernelspec": {
   "display_name": "Python 3",
   "language": "python",
   "name": "python3"
  },
  "language_info": {
   "codemirror_mode": {
    "name": "ipython",
    "version": 3
   },
   "file_extension": ".py",
   "mimetype": "text/x-python",
   "name": "python",
   "nbconvert_exporter": "python",
   "pygments_lexer": "ipython3",
   "version": "3.11.5"
  }
 },
 "nbformat": 4,
 "nbformat_minor": 5
}