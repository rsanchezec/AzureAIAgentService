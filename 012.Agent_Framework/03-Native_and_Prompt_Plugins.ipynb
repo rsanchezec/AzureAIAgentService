{
 "cells": [
  {
   "cell_type": "markdown",
   "id": "36509b14",
   "metadata": {},
   "source": [
    "## Agentes de Azure AI con Plugins Nativos y de Plantillas de Prompt"
   ]
  },
  {
   "cell_type": "markdown",
   "id": "5917b566",
   "metadata": {},
   "source": [
    "![Framework de Agentes del SDK de Semantic Kernel](https://github.com/kuljotSB/semantic-kernel/blob/main/Assets/Native_and_Prompt_Plugins.jpg?raw=true)"
   ]
  },
  {
   "cell_type": "markdown",
   "id": "706239c0",
   "metadata": {},
   "source": [
    "#### Instalación del SDK y las herramientas"
   ]
  },
  {
   "cell_type": "code",
   "execution_count": null,
   "id": "3ffaa363",
   "metadata": {},
   "outputs": [],
   "source": [
    "%pip install semantic-kernel==1.28.1, python-dotenv"
   ]
  },
  {
   "cell_type": "markdown",
   "id": "fcdb5182",
   "metadata": {},
   "source": [
    "#### Referenciando las bibliotecas y paquetes importantes"
   ]
  },
  {
   "cell_type": "code",
   "execution_count": 4,
   "id": "758f47b3",
   "metadata": {},
   "outputs": [],
   "source": [
    "# Importaciones clave de Semantic Kernel y Python.\n",
    "from semantic_kernel.agents import ChatCompletionAgent\n",
    "from semantic_kernel.connectors.ai import FunctionChoiceBehavior\n",
    "from semantic_kernel.connectors.ai.open_ai import AzureChatCompletion, AzureChatPromptExecutionSettings\n",
    "from semantic_kernel.functions import KernelFunctionFromPrompt\n",
    "from semantic_kernel.kernel import Kernel\n",
    "from dotenv import load_dotenv\n",
    "import os\n",
    "import math\n",
    "from typing import Annotated\n",
    "\n",
    "from semantic_kernel.functions.kernel_function_decorator import kernel_function"
   ]
  },
  {
   "cell_type": "markdown",
   "id": "f5049cac",
   "metadata": {},
   "source": [
    "#### Creando el Plugin Nativo de Matemáticas"
   ]
  },
  {
   "cell_type": "code",
   "execution_count": 5,
   "id": "49b17d22",
   "metadata": {},
   "outputs": [],
   "source": [
    "# Esta clase define un conjunto de herramientas lógicas basadas en código Python puro.\n",
    "class Math:\n",
    "    \"\"\"\n",
    "    Descripción: MathPlugin proporciona un conjunto de funciones para realizar cálculos matemáticos.\n",
    "    \"\"\"\n",
    "\n",
    "    # El decorador '@kernel_function' expone este método al Kernel como una habilidad.\n",
    "    @kernel_function(\n",
    "        description=\"Divide dos números.\",\n",
    "        name=\"Divide\",\n",
    "    )\n",
    "    def divide(\n",
    "        self,\n",
    "        number1: Annotated[float, \"el primer número para dividir\"],\n",
    "        number2: Annotated[float, \"el segundo número por el cual dividir\"],\n",
    "    ) -> Annotated[float, \"La salida es un número flotante\"]:\n",
    "        return float(number1) / float(number2)\n",
    "\n",
    "    @kernel_function(\n",
    "        description=\"Multiplica dos números. Al aumentar en un porcentaje, no olvides sumar 1 al porcentaje.\",\n",
    "        name=\"Multiply\",\n",
    "    )\n",
    "    def multiply(\n",
    "        self,\n",
    "        number1: Annotated[float, \"el primer número a multiplicar\"],\n",
    "        number2: Annotated[float, \"el segundo número a multiplicar\"],\n",
    "    ) -> Annotated[float, \"La salida es un número flotante\"]:\n",
    "        return float(number1) * float(number2)\n",
    "\n",
    "    @kernel_function(\n",
    "        description=\"Calcula la raíz cuadrada de un número\",\n",
    "        name=\"Sqrt\",\n",
    "    )\n",
    "    def square_root(\n",
    "        self,\n",
    "        number1: Annotated[float, \"el número del cual obtener la raíz cuadrada\"],\n",
    "    ) -> Annotated[float, \"La salida es un número flotante\"]:\n",
    "        return math.sqrt(float(number1))\n",
    "\n",
    "    @kernel_function(name=\"Add\")\n",
    "    def add(\n",
    "        self,\n",
    "        number1: Annotated[float, \"el primer número a sumar\"],\n",
    "        number2: Annotated[float, \"el segundo número a sumar\"],\n",
    "    ) -> Annotated[float, \"la salida es un número flotante\"]:\n",
    "        return float(number1) + float(number2)\n",
    "\n",
    "    @kernel_function(\n",
    "        description=\"Resta un valor a otro valor\",\n",
    "        name=\"Subtract\",\n",
    "    )\n",
    "    def subtract(\n",
    "        self,\n",
    "        number1: Annotated[float, \"el primer número\"],\n",
    "        number2: Annotated[float, \"el número a restar\"],\n",
    "    ) -> Annotated[float, \"la salida es un número flotante\"]:\n",
    "        return float(number1) - float(number2)"
   ]
  },
  {
   "cell_type": "markdown",
   "id": "52b0f14c",
   "metadata": {},
   "source": [
    "#### Creando el Kernel con Comportamiento de Función Automático y los plugins nativos y de prompt"
   ]
  },
  {
   "cell_type": "code",
   "execution_count": 6,
   "id": "6dacb115",
   "metadata": {},
   "outputs": [],
   "source": [
    "# Se cargan las variables de entorno.\n",
    "load_dotenv()\n",
    "\n",
    "# Se obtiene el nombre del modelo a utilizar.\n",
    "model = os.getenv(\"AZURE_OPENAI_CHAT_COMPLETION_MODEL\")\n",
    "\n",
    "# Se crea la instancia del Kernel.\n",
    "kernel = Kernel()\n",
    "\n",
    "service_id = \"default\"\n",
    "\n",
    "# Se añade el servicio de IA de Azure al Kernel.\n",
    "kernel.add_service(\n",
    "    AzureChatCompletion(service_id=service_id,\n",
    "                        api_key=os.getenv(\"AZURE_OPENAI_API_KEY\"),\n",
    "                        deployment_name=os.getenv(\"AZURE_OPENAI_CHAT_COMPLETION_MODEL\"),\n",
    "                        endpoint = os.getenv(\"AZURE_OPENAI_ENDPOINT\")\n",
    "    )\n",
    ")\n",
    "\n",
    "# Se obtienen las configuraciones de ejecución del servicio de IA.\n",
    "settings = kernel.get_prompt_execution_settings_from_service_id(service_id=service_id)\n",
    "\n",
    "# Se configura el comportamiento de elección de función para invocar automáticamente las funciones del kernel.\n",
    "# Esta es la línea que \"enciende\" la capacidad del agente para usar herramientas de forma autónoma.\n",
    "settings.function_choice_behavior = FunctionChoiceBehavior.Auto()\n",
    "\n",
    "# Se añade el plugin nativo de matemáticas al Kernel, dándole al agente la habilidad de calcular.\n",
    "kernel.add_plugin(Math(), plugin_name=\"math\")\n",
    "\n",
    "# Se añade el plugin de plantilla de prompt al Kernel, dándole al agente la habilidad de formatear texto.\n",
    "plugin = kernel.add_plugin(parent_directory = os.path.join(os.getcwd(), \"plugins\", \"prompt_templates\"), plugin_name = \"basic_plugin\")"
   ]
  },
  {
   "cell_type": "markdown",
   "id": "af138a93",
   "metadata": {},
   "source": [
    "#### Creando un Agente `ChatCompletionAgent` con el kernel"
   ]
  },
  {
   "cell_type": "code",
   "execution_count": 7,
   "id": "5e83957a",
   "metadata": {},
   "outputs": [],
   "source": [
    "from semantic_kernel.functions import KernelArguments\n",
    "\n",
    "# Se crea el agente.\n",
    "agent = ChatCompletionAgent(\n",
    "    kernel=kernel, # Se le pasa el Kernel, que ahora contiene el servicio de IA y los dos plugins.\n",
    "    name=\"Plugins-Agent\", # Nombre para el agente.\n",
    "    instructions=\"Eres un asistente de IA muy útil\", # Instrucciones base.\n",
    "    arguments=KernelArguments(settings=settings), # Se aplican las configuraciones de ejecución automática de funciones.\n",
    ")"
   ]
  },
  {
   "cell_type": "markdown",
   "id": "08ebf885",
   "metadata": {},
   "source": [
    "#### Invocando al agente para ver la ejecución de los plugins"
   ]
  },
  {
   "cell_type": "code",
   "execution_count": null,
   "id": "ae8845a2",
   "metadata": {},
   "outputs": [],
   "source": "# Este prompt es una solicitud de dos partes que requiere dos herramientas diferentes.\nuser_input = \"\"\"suma 5 y 2. También crea la información de contacto para el usuario con los siguientes detalles:\n1) Nombre: John Doe\n2) Teléfono: 123-456-7890\n3) Email: john@outlook.com\n4) Dirección: 123 Main St, Springfield, USA\n\"\"\"\n# Se define la función asíncrona para llamar al agente.\nasync def get_response_from_agent():\n    # El agente recibirá el input, y su configuración 'Auto' le permitirá\n    # decidir llamar a la función 'math.Add' y luego a 'basic_plugin.contact_information'.\n    response =  await agent.get_response(\n        messages = user_input\n    )\n    \n    return response\n\n# Se ejecuta la llamada y se imprime la respuesta final, que combinará los resultados de ambas herramientas.\nresponse = await get_response_from_agent()\nprint(response)"
  },
  {
   "cell_type": "markdown",
   "id": "41733bdb",
   "metadata": {},
   "source": [
    "#### Viendo los pasos intermedios de ejecución del plugin con \"intermediate_steps\""
   ]
  },
  {
   "cell_type": "code",
   "execution_count": null,
   "id": "1a5f15f2",
   "metadata": {},
   "outputs": [],
   "source": "# Importaciones para inspeccionar los contenidos de los mensajes internos del agente.\nfrom semantic_kernel.contents import ChatMessageContent\nfrom semantic_kernel.agents import ChatHistoryAgentThread\nfrom semantic_kernel.contents import AuthorRole, ChatMessageContent, FunctionCallContent, FunctionResultContent\n\n# Se define un hilo para la conversación.\nthread = ChatHistoryAgentThread()\n\n# Se define una lista vacía para almacenar los \"pensamientos\" o pasos intermedios del agente.\nintermediate_steps: list[ChatMessageContent] = []\n\n# Se define una función 'callback'. El agente llamará a esta función automáticamente\n# cada vez que piense en llamar una herramienta o reciba un resultado de ella.\nasync def handle_intermediate_steps(message: ChatMessageContent) -> None:\n    # Simplemente añade el mensaje intermedio a nuestra lista.\n    intermediate_steps.append(message)\n\n# Se define la función principal que invocará al agente y registrará los pasos.\nasync def get_response_from_agent_with_intermediate_steps():\n    # Se usa 'agent.invoke' que permite usar callbacks, en lugar de 'get_response'.\n    async for response in agent.invoke(\n        messages=user_input, # La misma consulta del usuario.\n        thread=thread, # El hilo de la conversación.\n        on_intermediate_message=handle_intermediate_steps # Aquí \"conectamos\" nuestra función callback.\n    ):\n        # El bucle 'async for' se usa para manejar respuestas en streaming, aquí solo tomamos la primera respuesta completa.\n        return response\n\n# Se ejecuta la función.\nresponse = await get_response_from_agent_with_intermediate_steps()\nprint(\"Respuesta del Agente: \\n\")\nprint(f\"{response} \\n\")\nprint(\"------------------------------------------------------------\")\n\n # Se imprimen los pasos intermedios que hemos capturado.\nprint(\"\\nPasos Intermedios (Razonamiento del Agente):\")\nfor msg in intermediate_steps:\n     # Si el mensaje es el resultado de una función, lo imprimimos.\n     if any(isinstance(item, FunctionResultContent) for item in msg.items):\n         for fr in msg.items:\n             if isinstance(fr, FunctionResultContent):\n                 print(f\"=> Resultado de Función: '{fr.result}' de la función: '{fr.name}'\")\n     # Si el mensaje es la decisión de llamar a una función, lo imprimimos.\n     elif any(isinstance(item, FunctionCallContent) for item in msg.items):\n         for fcc in msg.items:\n             if isinstance(fcc, FunctionCallContent):\n                 print(f\"<= Llamada a Función: '{fcc.name}' con argumentos: {fcc.arguments}\")\n     # De lo contrario, es un mensaje normal.\n     else:\n         print(f\"{msg.role}: {msg.content}\")"
  }
 ],
 "metadata": {
  "kernelspec": {
   "display_name": ".venv",
   "language": "python",
   "name": "python3"
  },
  "language_info": {
   "codemirror_mode": {
    "name": "ipython",
    "version": 3
   },
   "file_extension": ".py",
   "mimetype": "text/x-python",
   "name": "python",
   "nbconvert_exporter": "python",
   "pygments_lexer": "ipython3",
   "version": "3.12.11"
  }
 },
 "nbformat": 4,
 "nbformat_minor": 5
}