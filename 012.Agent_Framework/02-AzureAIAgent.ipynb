{
 "cells": [
  {
   "cell_type": "markdown",
   "id": "1631e5df",
   "metadata": {},
   "source": [
    "## Creando Agentes del Servicio de Agentes de Azure AI con Semantic Kernel"
   ]
  },
  {
   "cell_type": "markdown",
   "id": "fd02beee",
   "metadata": {},
   "source": [
    "![Flujo de Trabajo del Agente](https://github.com/kuljotSB/semantic-kernel/blob/main/Assets/Azure_AI_Agent.jpg?raw=true)\n"
   ]
  },
  {
   "cell_type": "markdown",
   "id": "be82ca80",
   "metadata": {},
   "source": [
    "#### Instalando dependencias y bibliotecas"
   ]
  },
  {
   "cell_type": "code",
   "execution_count": 1,
   "id": "685e07fd",
   "metadata": {},
   "outputs": [],
   "source": [
    "#%pip install semantic-kernel==1.28.1"
   ]
  },
  {
   "cell_type": "code",
   "execution_count": 2,
   "id": "7ba10a8c",
   "metadata": {},
   "outputs": [],
   "source": [
    "#%pip install azure-identity"
   ]
  },
  {
   "cell_type": "code",
   "execution_count": 3,
   "id": "546dbcd0",
   "metadata": {},
   "outputs": [],
   "source": [
    "#%pip install azure-ai-projects==1.0.0b7"
   ]
  },
  {
   "cell_type": "markdown",
   "id": "131aca10",
   "metadata": {},
   "source": [
    "#### Creando nuestro Agente a través de código"
   ]
  },
  {
   "cell_type": "code",
   "execution_count": 1,
   "id": "c03aa9d5",
   "metadata": {},
   "outputs": [],
   "source": [
    "# --- Importaciones Necesarias ---\n",
    "from azure.identity import DefaultAzureCredential # Para la autenticación con Azure.\n",
    "from semantic_kernel.agents import AzureAIAgent, AzureAIAgentSettings # La clase principal de Agente de Semantic Kernel para este flujo.\n",
    "import os # Para leer variables de entorno.\n",
    "from azure.ai.projects import AIProjectClient # El cliente de bajo nivel para interactuar con el servicio de Azure.\n",
    "from dotenv import load_dotenv # Para cargar el archivo .env.\n",
    "import asyncio # Para operaciones asíncronas.\n",
    "\n",
    "# Se carga el archivo .env.\n",
    "load_dotenv()\n",
    "\n",
    "# Se obtiene el nombre del modelo a utilizar.\n",
    "#model = os.getenv(\"AZURE_OPENAI_CHAT_COMPLETION_MODEL\")\n",
    "deployment_name = os.getenv(\"AZURE_OPENAI_DEPLOYMENT_NAME\")\n",
    "\n",
    "# --- Creación del Cliente para el Servicio de Azure ---\n",
    "# Se crea el cliente que se comunicará directamente con la plataforma de Agentes de Azure AI.\n",
    "project_client = AzureAIAgent.create_client(credential=DefaultAzureCredential(),\n",
    "                                          conn_str=os.getenv(\"AI_PROJECT_CONNECTION_STRING\")\n",
    ")\n",
    "\n",
    "# --- Creación del Agente en Dos Pasos ---\n",
    "# [INICIO create_agent]\n",
    "# PASO 1: Crear la definición del agente en el servicio de Azure AI.\n",
    "# Esta llamada a la API registra un nuevo agente en la nube de Azure.\n",
    "agent_definition = await project_client.agents.create_agent( # añade get_agent(assistant_id=\"\") para usar un agente ya creado\n",
    "        model=deployment_name,\n",
    "        name=\"my-assistant\", # Nombre del agente en Azure.\n",
    "        instructions=\"Eres un asistente muy útil\", # Instrucciones base.\n",
    "    )\n",
    "\n",
    "# PASO 2: Crear un agente de Semantic Kernel que actúe como \"control remoto\" para el agente de Azure.\n",
    "# Este es el objeto con el que interactuaremos en nuestro código.\n",
    "agent = AzureAIAgent(\n",
    "        client=project_client, # Se le pasa el cliente de bajo nivel para la comunicación.\n",
    "        definition=agent_definition, # Se le pasa la definición del agente que creamos en la nube.\n",
    "    )"
   ]
  },
  {
   "cell_type": "markdown",
   "id": "ed3c6c97",
   "metadata": {},
   "source": [
    "#### Obteniendo una Respuesta de nuestro Agente"
   ]
  },
  {
   "cell_type": "code",
   "execution_count": 2,
   "id": "8ee065a3",
   "metadata": {},
   "outputs": [
    {
     "name": "stdout",
     "output_type": "stream",
     "text": [
      "La capital de Francia es París.\n"
     ]
    }
   ],
   "source": [
    "# Se define la pregunta del usuario.\n",
    "user_input = \"¿Cuál es la capital de Francia?\"\n",
    "\n",
    "# Se crea un hilo de conversación en el servicio de Azure. (Nota: no se usa en esta celda, pero se muestra cómo crearlo).\n",
    "thread = project_client.agents.create_thread()\n",
    "\n",
    "\n",
    "# Se define una función asíncrona para llamar al agente.\n",
    "async def get_response_from_agent():\n",
    "    # Se llama al método get_response de nuestro agente de Semantic Kernel.\n",
    "    # Este método enviará el mensaje al agente alojado en Azure y esperará la respuesta.\n",
    "    response =  await agent.get_response(\n",
    "        messages = user_input, # El contenido del mensaje.\n",
    "    )\n",
    "    \n",
    "    # Se devuelve la respuesta.\n",
    "    return response\n",
    "\n",
    "# Se ejecuta la función y se obtiene la respuesta.\n",
    "response = await get_response_from_agent()\n",
    "# Se imprime el contenido de la respuesta.\n",
    "print(response)"
   ]
  },
  {
   "cell_type": "markdown",
   "id": "0b7cae1f",
   "metadata": {},
   "source": [
    "#### Viendo en Acción el Historial de Chat del Agente (Thread)"
   ]
  },
  {
   "cell_type": "code",
   "execution_count": 3,
   "id": "7e219df7",
   "metadata": {},
   "outputs": [
    {
     "name": "stderr",
     "output_type": "stream",
     "text": [
      "C:\\Users\\raule\\AppData\\Local\\Temp\\ipykernel_24876\\1715049901.py:5: RuntimeWarning: coroutine 'AgentsOperations.create_thread' was never awaited\n",
      "  thread: AzureAIAgentThread = AzureAIAgentThread(client=project_client)\n",
      "RuntimeWarning: Enable tracemalloc to get the object allocation traceback\n"
     ]
    },
    {
     "name": "stdout",
     "output_type": "stream",
     "text": [
      "2 + 2 es igual a 4.\n",
      "6 - 6 es igual a 0.\n"
     ]
    }
   ],
   "source": [
    "# Importa la clase específica para manejar hilos de conversación con este tipo de agente.\n",
    "from semantic_kernel.agents import AzureAIAgentThread\n",
    "\n",
    "# Se crea una instancia del hilo (thread). Este objeto mantendrá el historial de la conversación.\n",
    "thread: AzureAIAgentThread = AzureAIAgentThread(client=project_client)\n",
    "\n",
    "# Se inicializa una variable para controlar el bucle del chat.\n",
    "continue_chat = True\n",
    "\n",
    "# Comienza un bucle para chatear interactivamente.\n",
    "while continue_chat:\n",
    "    # Pide al usuario que ingrese su mensaje.\n",
    "    user_input = input(\"Ingresa tu mensaje: \")\n",
    "    # Si el usuario escribe 'exit', se termina la conversación.\n",
    "    if user_input.lower() == \"exit\":\n",
    "        continue_chat = False\n",
    "        break\n",
    "    # Se llama al agente, pasándole tanto el nuevo mensaje como el objeto 'thread'.\n",
    "    # Al pasar el 'thread', el agente tendrá acceso a toda la conversación anterior para mantener el contexto.\n",
    "    response = await agent.get_response(messages=user_input,\n",
    "                                          thread = thread\n",
    "    )\n",
    "    \n",
    "    # Se imprime la respuesta del agente en la consola.\n",
    "    print(response)\n",
    "\n"
   ]
  }
 ],
 "metadata": {
  "kernelspec": {
   "display_name": ".venv",
   "language": "python",
   "name": "python3"
  },
  "language_info": {
   "codemirror_mode": {
    "name": "ipython",
    "version": 3
   },
   "file_extension": ".py",
   "mimetype": "text/x-python",
   "name": "python",
   "nbconvert_exporter": "python",
   "pygments_lexer": "ipython3",
   "version": "3.12.11"
  }
 },
 "nbformat": 4,
 "nbformat_minor": 5
}
