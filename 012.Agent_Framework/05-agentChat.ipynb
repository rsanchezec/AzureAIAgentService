{
 "cells": [
  {
   "cell_type": "markdown",
   "id": "629f51db",
   "metadata": {},
   "source": [
    "## Chat Grupal de Agentes - Caso de Uso de un Canal de Noticias (Creación de Noticias - Escritor y Revisor)"
   ]
  },
  {
   "cell_type": "markdown",
   "id": "4e20a579",
   "metadata": {},
   "source": [
    "![Flujo de Trabajo del Agente](https://github.com/kuljotSB/semantic-kernel/blob/main/Assets/AgentChat.jpg?raw=true)\n"
   ]
  },
  {
   "cell_type": "markdown",
   "id": "f45f2187",
   "metadata": {},
   "source": [
    "#### Instalando SDK y Bibliotecas"
   ]
  },
  {
   "cell_type": "code",
   "execution_count": null,
   "id": "e96c7915",
   "metadata": {},
   "outputs": [],
   "source": [
    "%pip install semantic-kernel==1.28.1, azure-identity, python-dotenv, azure-ai-projects==1.0.0b7"
   ]
  },
  {
   "cell_type": "markdown",
   "id": "37ccb915",
   "metadata": {},
   "source": [
    "#### Creando el Cliente de Azure AI Project"
   ]
  },
  {
   "cell_type": "code",
   "execution_count": 1,
   "id": "c4376ae2",
   "metadata": {},
   "outputs": [],
   "source": [
    "# --- Importaciones Necesarias ---\n",
    "from azure.identity import DefaultAzureCredential\n",
    "from semantic_kernel.agents import AzureAIAgent, AzureAIAgentSettings\n",
    "import os\n",
    "from azure.ai.projects import AIProjectClient\n",
    "from azure.ai.projects.models import MessageTextContent\n",
    "from dotenv import load_dotenv\n",
    "import asyncio\n",
    "from semantic_kernel import Kernel\n",
    "# Importa la clase principal para gestionar el chat grupal.\n",
    "from semantic_kernel.agents import AgentGroupChat, ChatCompletionAgent\n",
    "# Importa las clases de 'estrategia' que controlarán el flujo de la conversación.\n",
    "from semantic_kernel.agents.strategies import (\n",
    "    KernelFunctionSelectionStrategy,\n",
    "    KernelFunctionTerminationStrategy,\n",
    ")\n",
    "from semantic_kernel.connectors.ai.open_ai import AzureChatCompletion\n",
    "from semantic_kernel.contents import ChatHistoryTruncationReducer\n",
    "from semantic_kernel.functions import KernelFunctionFromPrompt\n",
    "\n",
    "# Se carga el archivo .env.\n",
    "load_dotenv()\n",
    "\n",
    "# Se obtiene el nombre del modelo a utilizar.\n",
    "model = os.getenv(\"AZURE_OPENAI_CHAT_COMPLETION_MODEL\")\n",
    "\n",
    "# Se crea el cliente para conectar con el Servicio de Agentes de Azure AI.\n",
    "project_client = AzureAIAgent.create_client(credential=DefaultAzureCredential(),\n",
    "                                          conn_str=os.getenv(\"AI_PROJECT_CONNECTION_STRING\")\n",
    ")"
   ]
  },
  {
   "cell_type": "markdown",
   "id": "ac33d057",
   "metadata": {},
   "source": [
    "#### Nombrando a nuestros agentes \"Escritor\" y \"Revisor\""
   ]
  },
  {
   "cell_type": "code",
   "execution_count": 2,
   "id": "c456c530",
   "metadata": {},
   "outputs": [],
   "source": [
    "# Se definen los nombres de los agentes como constantes para evitar errores de escritura.\n",
    "REVIEWER_NAME = \"Revisor\"\n",
    "WRITER_NAME = \"Escritor\""
   ]
  },
  {
   "cell_type": "markdown",
   "id": "9789e529",
   "metadata": {},
   "source": [
    "#### Prompt del Sistema para el Agente \"Escritor\""
   ]
  },
  {
   "cell_type": "code",
   "execution_count": 3,
   "id": "627cd681",
   "metadata": {},
   "outputs": [],
   "source": [
    "# Estas son las instrucciones que definen la personalidad y el único propósito del agente Escritor.\n",
    "writer_agent_prompt = f\"\"\"Tu única responsabilidad es reescribir contenido de acuerdo a las sugerencias de la revisión.\n",
    "- Aplica siempre todas las indicaciones de la revisión.\n",
    "- Revisa siempre el contenido en su totalidad y sin dar explicaciones.\n",
    "- Nunca te dirijas al usuario.\"\"\""
   ]
  },
  {
   "cell_type": "markdown",
   "id": "7ea38295",
   "metadata": {},
   "source": [
    "#### Creando el Agente \"Escritor\""
   ]
  },
  {
   "cell_type": "code",
   "execution_count": 4,
   "id": "3ff240d1",
   "metadata": {},
   "outputs": [],
   "source": [
    "# Se crea la definición del agente Escritor en el servicio de Azure AI.\n",
    "writer_agent_definition = await project_client.agents.create_agent(\n",
    "        model=model,\n",
    "        name=WRITER_NAME,\n",
    "        instructions=writer_agent_prompt, # Se le asignan sus instrucciones específicas.\n",
    "    )\n",
    "\n",
    "# Se crea el objeto 'control remoto' de Semantic Kernel para el agente Escritor.\n",
    "agent_writer = AzureAIAgent(\n",
    "        client=project_client,\n",
    "        definition=writer_agent_definition,\n",
    "    )"
   ]
  },
  {
   "cell_type": "markdown",
   "id": "fcbcef4e",
   "metadata": {},
   "source": [
    "#### Prompt del Sistema para el Agente \"Revisor\""
   ]
  },
  {
   "cell_type": "code",
   "execution_count": 5,
   "id": "592f84f2",
   "metadata": {},
   "outputs": [],
   "source": [
    "# Instrucciones detalladas que definen el comportamiento del agente Revisor.\n",
    "reviewer_agent_prompt = f\"\"\"Eres un agente revisor. Tu tarea es evaluar un artículo corto (~100 palabras) escrito por otro agente.\n",
    "Revísalo basándote en los siguientes criterios:\n",
    "\n",
    "1. Claridad – ¿Es el mensaje claro y fácil de seguir?\n",
    "2. Precisión – ¿Parece el contenido factualmente correcto?\n",
    "3. Interés – ¿Es interesante y apropiado para una audiencia general?\n",
    "4. Lenguaje – ¿Hay problemas de gramática o estilo?\n",
    "\n",
    "Proporciona:\n",
    "\n",
    "1. Una evaluación breve (2–3 líneas).\n",
    "2. Una puntuación entre 1–10 que refleje la calidad general del artículo.\n",
    "3. Si la puntuación es 8 o inferior, proporciona de 1 a 3 sugerencias para mejorar el artículo.\n",
    "4. Si la puntuación es superior a 8, simplemente responde: \"El artículo está listo para publicarse.\"\n",
    "\n",
    "No pidas más refinamientos a menos que la puntuación sea 8 o inferior.\"\"\"\n"
   ]
  },
  {
   "cell_type": "markdown",
   "id": "3fbd0151",
   "metadata": {},
   "source": [
    "#### Creando el Agente \"Revisor\""
   ]
  },
  {
   "cell_type": "code",
   "execution_count": 6,
   "id": "eac57ca7",
   "metadata": {},
   "outputs": [],
   "source": [
    "# Se crea la definición del agente Revisor en el servicio de Azure AI.\n",
    "reviewer_agent_definition = await project_client.agents.create_agent(\n",
    "        model=model,\n",
    "        name=REVIEWER_NAME,\n",
    "        instructions=reviewer_agent_prompt, # Se le asignan sus reglas de revisión.\n",
    "    )\n",
    "\n",
    "# Se crea el objeto 'control remoto' de Semantic Kernel para el agente Revisor.\n",
    "agent_reviewer = AzureAIAgent(\n",
    "        client=project_client,\n",
    "        definition=reviewer_agent_definition,\n",
    "    )"
   ]
  },
  {
   "cell_type": "markdown",
   "id": "d1f04c9a",
   "metadata": {},
   "source": [
    "#### Creando el Kernel"
   ]
  },
  {
   "cell_type": "code",
   "execution_count": 8,
   "id": "7ef28205",
   "metadata": {},
   "outputs": [],
   "source": [
    "# Se crea una instancia del Kernel. Este Kernel se usará para ejecutar las 'estrategias' del chat.\n",
    "kernel = Kernel()\n",
    "\n",
    "load_dotenv()\n",
    "api_key = os.getenv(\"AZURE_OPENAI_API_KEY\")\n",
    "deployment_name = os.getenv(\"AZURE_OPENAI_CHAT_COMPLETION_MODEL\")\n",
    "endpoint = os.getenv(\"AZURE_OPENAI_ENDPOINT\")\n",
    "\n",
    "service_id = \"service1\"\n",
    "# Se añade un servicio de IA al Kernel. Las estrategias lo usarán para tomar decisiones.\n",
    "kernel.add_service(\n",
    "    AzureChatCompletion(service_id=service_id,\n",
    "                        api_key=api_key,\n",
    "                        deployment_name=deployment_name,\n",
    "                        endpoint = endpoint\n",
    "    )\n",
    ")"
   ]
  },
  {
   "cell_type": "markdown",
   "id": "6d5cec58",
   "metadata": {},
   "source": [
    "#### Definiendo nuestra \"Función de Selección de Agente\""
   ]
  },
  {
   "cell_type": "code",
   "execution_count": 9,
   "id": "fbd6375a",
   "metadata": {},
   "outputs": [],
   "source": [
    "# Se define una función de prompt que decidirá qué agente debe hablar a continuación.\n",
    "# ¡Esto es una IA decidiendo qué otra IA debe actuar!\n",
    "selection_function = KernelFunctionFromPrompt(\n",
    "        function_name=\"selection\",\n",
    "        prompt=f\"\"\"\n",
    "Examina la RESPUESTA proporcionada y elige el siguiente participante.\n",
    "Indica únicamente el nombre del participante elegido sin dar explicaciones.\n",
    "Nunca elijas al participante nombrado en la RESPUESTA.\n",
    "\n",
    "Elige solo entre estos participantes:\n",
    "- {REVIEWER_NAME}\n",
    "- {WRITER_NAME}\n",
    "\n",
    "Reglas:\n",
    "- Si la RESPUESTA es del usuario, es el turno de {WRITER_NAME}.\n",
    "- Si la RESPUESTA es de {REVIEWER_NAME}, es el turno de {WRITER_NAME}.\n",
    "- Si la RESPUESTA es de {WRITER_NAME}, es el turno de {REVIEWER_NAME}.\n",
    "\n",
    "RESPUESTA:\n",
    "{{{{$lastmessage}}}}\n",
    "\"\"\",\n",
    ")"
   ]
  },
  {
   "cell_type": "markdown",
   "id": "d030cbc9",
   "metadata": {},
   "source": [
    "#### Definiendo nuestra \"Función de Terminación de Conversación\""
   ]
  },
  {
   "cell_type": "code",
   "execution_count": 10,
   "id": "a26305aa",
   "metadata": {},
   "outputs": [],
   "source": [
    "# Se define una función de prompt que decidirá si la conversación ha terminado.\n",
    "termination_keyword = \"yes\"\n",
    "\n",
    "termination_function = KernelFunctionFromPrompt(\n",
    "        function_name=\"termination\",\n",
    "        prompt=f\"\"\"\n",
    "Examina la RESPUESTA y determina si el contenido se ha considerado satisfactorio.\n",
    "El contenido se considera satisfactorio si el revisor ha dado una puntuación de 8 o superior y ha dicho \"El artículo está listo para publicarse.\"\n",
    "Si el contenido es satisfactorio, responde con una sola palabra sin dar explicaciones: {termination_keyword}.\n",
    "\n",
    "RESPUESTA:\n",
    "{{{{$lastmessage}}}}\n",
    "\"\"\",\n",
    "    )"
   ]
  },
  {
   "cell_type": "markdown",
   "id": "282b64ac",
   "metadata": {},
   "source": [
    "#### Creando nuestro \"Chat Grupal\" de Agentes"
   ]
  },
  {
   "cell_type": "code",
   "execution_count": 11,
   "id": "5605f9a7",
   "metadata": {},
   "outputs": [],
   "source": [
    "# Reduce el historial de chat para no exceder el límite de tokens, manteniendo los 5 mensajes más recientes.\n",
    "history_reducer = ChatHistoryTruncationReducer(target_count=5)\n",
    "\n",
    "# Se crea la instancia del Chat Grupal, configurando las estrategias de control.\n",
    "chat = AgentGroupChat(\n",
    "        # Se especifica qué agentes participarán en el chat.\n",
    "        agents=[agent_reviewer, agent_writer],\n",
    "        # Se define la estrategia para decidir quién habla a continuación.\n",
    "        selection_strategy=KernelFunctionSelectionStrategy(\n",
    "            initial_agent=agent_writer, # Se define que el Escritor siempre empieza después del usuario.\n",
    "            function=selection_function, # La función de prompt que tomará la decisión.\n",
    "            kernel=kernel, # El kernel que ejecutará la función.\n",
    "            result_parser=lambda result: str(result.value[0]).strip() if result.value[0] is not None else WRITER_NAME, # Procesa la respuesta para obtener solo el nombre.\n",
    "            history_variable_name=\"lastmessage\", # El nombre de la variable en el prompt que contendrá el último mensaje.\n",
    "            history_reducer=history_reducer,\n",
    "        ),\n",
    "        # Se define la estrategia para decidir cuándo terminar el chat.\n",
    "        termination_strategy=KernelFunctionTerminationStrategy(\n",
    "            agents=[agent_reviewer], # Solo el Revisor puede terminar la conversación.\n",
    "            function=termination_function, # La función de prompt que decidirá si se termina.\n",
    "            kernel=kernel,\n",
    "            result_parser=lambda result: termination_keyword in str(result.value[0]).lower(), # Procesa la respuesta para ver si contiene la palabra clave.\n",
    "            history_variable_name=\"lastmessage\",\n",
    "            maximum_iterations=10, # Un límite de seguridad para evitar bucles infinitos.\n",
    "            history_reducer=history_reducer,\n",
    "        ),\n",
    "    )"
   ]
  },
  {
   "cell_type": "markdown",
   "id": "a4eaa000",
   "metadata": {},
   "source": [
    "#### Ejecutando nuestro Chat Grupal de Agentes"
   ]
  },
  {
   "cell_type": "code",
   "execution_count": 13,
   "id": "ef5bf379",
   "metadata": {},
   "outputs": [
    {
     "name": "stdout",
     "output_type": "stream",
     "text": [
      "¡Listo! Escribe tu artículo inicial, o 'exit' para salir, 'reset' para reiniciar la conversación.\n",
      "\n",
      "\n",
      "# ESCRITOR:\n",
      "La inteligencia artificial está transformando nuestro mundo a gran velocidad. Observamos asistentes de IA en dispositivos móviles y hogares, facilitando tareas cotidianas. Las empresas también la incorporan para aumentar su eficiencia. El futuro de la IA se vislumbra prometedor y lleno de innovaciones que simplificarán nuestra vida. Esta revolución tecnológica avanza a pasos agigantados.\n",
      "\n",
      "# REVISOR:\n",
      "1. El artículo es claro, preciso e interesante, presentando la IA como una herramienta transformativa en la vida diaria y empresarial. Sin embargo, podría beneficiarse de ejemplos más concretos.\n",
      "2. Puntuación: 8\n",
      "3. Sugerencias para mejorar:\n",
      "   - Incluir ejemplos específicos de tareas diarias o soluciones empresariales en las que se utiliza la IA.\n",
      "   - Añadir un dato o una estadística para resaltar el impacto de la IA.\n",
      "   - Considerar mencionar posibles desafíos o consideraciones éticas asociadas con el rápido avance de la IA.\n",
      "\n"
     ]
    }
   ],
   "source": [
    "# Mensaje de bienvenida para el usuario.\n",
    "print(\n",
    "        \"¡Listo! Escribe tu artículo inicial, o 'exit' para salir, 'reset' para reiniciar la conversación.\"\n",
    "    )\n",
    "\n",
    "# Bucle principal para la interacción del usuario.\n",
    "is_complete = False\n",
    "while not is_complete:\n",
    "        print()\n",
    "        # Se obtiene el texto inicial del usuario.\n",
    "        user_input = input(\"Usuario > \").strip()\n",
    "        if not user_input:\n",
    "            continue\n",
    "\n",
    "        # Comandos para controlar el chat.\n",
    "        if user_input.lower() == \"exit\":\n",
    "            is_complete = True\n",
    "            break\n",
    "        if user_input.lower() == \"reset\":\n",
    "            await chat.reset()\n",
    "            print(\"[La conversación ha sido reiniciada]\")\n",
    "            continue\n",
    "        \n",
    "        # Se añade el mensaje del usuario al historial del chat para dar comienzo al proceso.\n",
    "        await chat.add_chat_message(message=user_input)\n",
    "\n",
    "        try:\n",
    "            # ¡La magia ocurre aquí! 'chat.invoke()' inicia el ciclo de conversación automática.\n",
    "            # El chat gestionará los turnos entre el Escritor y el Revisor hasta que la estrategia de terminación se cumpla.\n",
    "            async for response in chat.invoke():\n",
    "                if response is None or not response.name:\n",
    "                    continue\n",
    "                # Se imprime el mensaje de cada agente a medida que 'hablan'.\n",
    "                print()\n",
    "                print(f\"# {response.name.upper()}:\\n{response.content}\")\n",
    "        except Exception as e:\n",
    "            print(f\"Error durante la invocación del chat: {e}\")\n",
    "\n",
    "        # Se reinicia el indicador de finalización para la siguiente ronda de conversación.\n",
    "        chat.is_complete = False"
   ]
  }
 ],
 "metadata": {
  "kernelspec": {
   "display_name": ".venv",
   "language": "python",
   "name": "python3"
  },
  "language_info": {
   "codemirror_mode": {
    "name": "ipython",
    "version": 3
   },
   "file_extension": ".py",
   "mimetype": "text/x-python",
   "name": "python",
   "nbconvert_exporter": "python",
   "pygments_lexer": "ipython3",
   "version": "3.12.11"
  }
 },
 "nbformat": 4,
 "nbformat_minor": 5
}
